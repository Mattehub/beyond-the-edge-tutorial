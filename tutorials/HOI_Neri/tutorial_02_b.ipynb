{
 "cells": [
  {
   "cell_type": "code",
   "execution_count": 1,
   "metadata": {},
   "outputs": [
    {
     "name": "stderr",
     "output_type": "stream",
     "text": [
      "/home/INT/neri.m/anaconda3/envs/matte_plot_env/lib/python3.12/site-packages/hoi-0.0.5-py3.12.egg/hoi/utils/logging.py:52: SyntaxWarning: invalid escape sequence '\\*'\n",
      "/home/INT/neri.m/anaconda3/envs/matte_plot_env/lib/python3.12/site-packages/hoi-0.0.5-py3.12.egg/hoi/utils/logging.py:52: SyntaxWarning: invalid escape sequence '\\*'\n",
      "/home/INT/neri.m/anaconda3/envs/matte_plot_env/lib/python3.12/site-packages/tqdm-4.67.1-py3.12.egg/tqdm/auto.py:21: TqdmWarning: IProgress not found. Please update jupyter and ipywidgets. See https://ipywidgets.readthedocs.io/en/stable/user_install.html\n",
      "  from .autonotebook import tqdm as notebook_tqdm\n",
      "/home/INT/neri.m/anaconda3/envs/matte_plot_env/lib/python3.12/site-packages/hoi-0.0.5-py3.12.egg/hoi/metrics/infotopo.py:47: SyntaxWarning: invalid escape sequence '\\s'\n",
      "/home/INT/neri.m/anaconda3/envs/matte_plot_env/lib/python3.12/site-packages/hoi-0.0.5-py3.12.egg/hoi/metrics/infotopo.py:47: SyntaxWarning: invalid escape sequence '\\s'\n",
      "/home/INT/neri.m/anaconda3/envs/matte_plot_env/lib/python3.12/site-packages/hoi-0.0.5-py3.12.egg/hoi/metrics/rsi.py:15: SyntaxWarning: invalid escape sequence '\\e'\n",
      "/home/INT/neri.m/anaconda3/envs/matte_plot_env/lib/python3.12/site-packages/hoi-0.0.5-py3.12.egg/hoi/metrics/rsi.py:15: SyntaxWarning: invalid escape sequence '\\e'\n"
     ]
    }
   ],
   "source": [
    "\"\"\"\n",
    "O-information\n",
    "=============\n",
    "\"\"\"\n",
    "import numpy as np\n",
    "\n",
    "from hoi.metrics import RSI, Oinfo\n",
    "from hoi.utils import get_nbest_mult\n",
    "from hoi.plot import plot_landscape\n",
    "import xgi\n",
    "\n",
    "import matplotlib.pyplot as plt\n",
    "plt.style.use('ggplot')\n",
    "\n"
   ]
  },
  {
   "cell_type": "markdown",
   "metadata": {},
   "source": [
    "## Definition\n",
    "\n",
    "The O-information is a multivariate measure of information capable of disentangling whether a subset of a variable `X` is dominated by redunancy or synergy. The O-information is defined as the difference between the Total Correlation and the Dual Total Correlation. As both quantities are respectively linked to redundancy and synergy, the O-information is going to be positive when a system is dominated by redundant interactions and negative when the system is dominated by synergistic interactions. The mathematical definition of the O-information is given by:\n",
    "\n",
    "$$\n",
    "\\Omega(X^{n})  =  TC(X^{n}) - DTC(X^{n}) \\\\\n",
    "               =  (n - 2)H(X^{n}) + \\sum_{j=1}^{n} \\left[ H(X_{j}) - H(X_{-j}^{n}) \\right]\n",
    "$$\n",
    "\n",
    "---\n",
    "\n",
    "## Simulate Univariate Redundancy\n",
    "\n",
    "A very simple way to simulate redundancy between three variables, is to copy one of the three variables in the other two. This is what is done step-by-step in the following cell. \n",
    "\n",
    "For further information about how to simulate redundant and synergistic interactions, check out the example: [Simulating Redundant and Synergistic Interactions](https://example.com/sphx_glr_auto_examples_tutorials_plot_sim_red_syn.py)."
   ]
  },
  {
   "cell_type": "code",
   "execution_count": 2,
   "metadata": {},
   "outputs": [
    {
     "name": "stderr",
     "output_type": "stream",
     "text": [
      "    Copnorm and demean the data\n",
      "Get list of multiplets\n",
      "                                                           "
     ]
    },
    {
     "name": "stdout",
     "output_type": "stream",
     "text": [
      "   index  order       hoi  multiplet\n",
      "0     20      3  0.193099  [1, 3, 5]\n",
      "1     24      3  0.007586  [1, 5, 6]\n",
      "2     21      3  0.003909  [1, 3, 6]\n",
      "3      1      3 -0.002086  [0, 1, 3]\n",
      "4     19      3 -0.003185  [1, 3, 4]\n",
      "5     17      3 -0.003698  [1, 2, 5]\n"
     ]
    },
    {
     "name": "stderr",
     "output_type": "stream",
     "text": [
      "\r"
     ]
    }
   ],
   "source": [
    "\n",
    "# lets start by simulating a variable x with 200 samples and 7 features\n",
    "x = np.random.rand(200, 7)\n",
    "\n",
    "# we now send the variable x1 in the column (3, 5) of x\n",
    "x[:, 3] += x[:, 1]\n",
    "x[:, 5] += x[:, 1]\n",
    "\n",
    "# define the Oinfo model and launch it\n",
    "model = Oinfo(x)\n",
    "hoi = model.fit(minsize=3, maxsize=5)\n",
    "\n",
    "# now we can take a look at the multiplets with the highest and lowest values\n",
    "# of Oinfo. We will only select the multiplets of size 3 here\n",
    "df = get_nbest_mult(hoi, model=model, minsize=3, maxsize=3, n_best=3)\n",
    "print(df)\n",
    "\n"
   ]
  },
  {
   "cell_type": "markdown",
   "metadata": {},
   "source": [
    "###############################################################################\n",
    "# Simulate univariate and multivariate synergy\n",
    "-------------------------------------------------------------------------------\n",
    "\n",
    "As we have already seen in the other part of the tutorial, we observe synergy\n",
    "between three variables, if one variable is equal to the sum of the other two. \n"
   ]
  },
  {
   "cell_type": "code",
   "execution_count": 3,
   "metadata": {},
   "outputs": [
    {
     "name": "stderr",
     "output_type": "stream",
     "text": [
      "    Copnorm and demean the data\n",
      "Get list of multiplets\n",
      "                                                           "
     ]
    },
    {
     "name": "stdout",
     "output_type": "stream",
     "text": [
      "   index  order       hoi  multiplet\n",
      "0      3      3  0.010324  [0, 1, 5]\n",
      "1      1      3  0.002766  [0, 1, 3]\n",
      "2     27      3  0.001111  [2, 3, 6]\n",
      "3      5      3 -0.007395  [0, 2, 3]\n",
      "4      7      3 -0.023213  [0, 2, 5]\n",
      "5     10      3 -1.561881  [0, 3, 5]\n"
     ]
    },
    {
     "name": "stderr",
     "output_type": "stream",
     "text": [
      "\r"
     ]
    }
   ],
   "source": [
    "# simulate the variable x\n",
    "x = np.random.rand(200, 7)\n",
    "\n",
    "# synergy between (0, 3, 5) and 5\n",
    "x[:, 0] = x[:, 3] + x[:, 5]\n",
    "\n",
    "# define the RSI, launch it and inspect the best multiplets\n",
    "model = Oinfo(x)\n",
    "hoi = model.fit(minsize=3, maxsize=5)\n",
    "df = get_nbest_mult(hoi, model=model, minsize=3, maxsize=3, n_best=3)\n",
    "print(df)\n",
    "\n"
   ]
  },
  {
   "cell_type": "markdown",
   "metadata": {},
   "source": [
    "# Combining redundancy and synergy"
   ]
  },
  {
   "cell_type": "code",
   "execution_count": 4,
   "metadata": {},
   "outputs": [
    {
     "name": "stderr",
     "output_type": "stream",
     "text": [
      "    Copnorm and demean the data\n",
      "Get list of multiplets\n",
      "                                                           "
     ]
    },
    {
     "name": "stdout",
     "output_type": "stream",
     "text": [
      "   index  order       hoi  multiplet\n",
      "0     31      3  0.201861  [3, 4, 5]\n",
      "1     25      3  0.014796  [2, 3, 4]\n",
      "2     26      3  0.006590  [2, 3, 5]\n",
      "3      2      3 -0.003978  [0, 1, 4]\n",
      "4      1      3 -0.007170  [0, 1, 3]\n",
      "5      0      3 -1.387849  [0, 1, 2]\n"
     ]
    },
    {
     "name": "stderr",
     "output_type": "stream",
     "text": [
      "\r"
     ]
    }
   ],
   "source": [
    "# simulate the variable x and y\n",
    "x = np.random.rand(200, 7)\n",
    "\n",
    "# synergy between (0, 1, 2) and the first column of y\n",
    "x[:, 0] = x[:, 1] + x[:, 2]\n",
    "\n",
    "# redundancy between (3, 4, 5) and the second column of x\n",
    "x[:, 4] += x[:, 3]\n",
    "x[:, 5] += x[:, 3]\n",
    "\n",
    "# define the RSI, launch it and inspect the best multiplets\n",
    "model = Oinfo(x)\n",
    "hoi = model.fit(minsize=3, maxsize=5)\n",
    "df = get_nbest_mult(hoi, model=model, minsize=3, maxsize=3, n_best=3)\n",
    "print(df)\n",
    "\n"
   ]
  },
  {
   "cell_type": "markdown",
   "metadata": {},
   "source": [
    "# Plot the result at each order to observe the spreading at orders higher than 3"
   ]
  },
  {
   "cell_type": "code",
   "execution_count": 5,
   "metadata": {},
   "outputs": [
    {
     "data": {
      "image/png": "[encoded data removed]",
      "text/plain": [
       "<Figure size 640x480 with 1 Axes>"
      ]
     },
     "metadata": {},
     "output_type": "display_data"
    }
   ],
   "source": [
    "plot_landscape(\n",
    "    hoi,\n",
    "    model,\n",
    "    kind=\"scatter\",\n",
    "    undersampling=False,\n",
    "    plt_kwargs=dict(cmap=\"turbo\"),\n",
    ")\n",
    "plt.show()"
   ]
  },
  {
   "cell_type": "markdown",
   "metadata": {},
   "source": [
    "# Here, we use another toolbox, to plot the computed higher-order interactions"
   ]
  },
  {
   "cell_type": "code",
   "execution_count": 8,
   "metadata": {},
   "outputs": [
    {
     "data": {
      "text/plain": [
       "(<Axes: >,\n",
       " (<matplotlib.collections.PathCollection at 0x7f198f5764e0>,\n",
       "  <matplotlib.collections.LineCollection at 0x7f198f574f80>,\n",
       "  <matplotlib.collections.PatchCollection at 0x7f198f576630>))"
      ]
     },
     "execution_count": 8,
     "metadata": {},
     "output_type": "execute_result"
    },
    {
     "data": {
      "image/png": "[encoded data removed]",
      "text/plain": [
       "<Figure size 640x480 with 1 Axes>"
      ]
     },
     "metadata": {},
     "output_type": "display_data"
    }
   ],
   "source": [
    "hype=xgi.Hypergraph()\n",
    "\n",
    "#Here we separate the synergistic and redundant interactions\n",
    "index_pos=np.where(df['hoi']>0.1)[0]\n",
    "index_neg=np.where(df['hoi']<-0.1)[0]\n",
    "hype.add_nodes_from(np.arange(0,7))\n",
    "hype.add_edges_from(df['multiplet'][index_pos][::-1])\n",
    "\n",
    "dict_node_labels={}\n",
    "for i in range(len(hype.nodes)):\n",
    "    dict_node_labels[i]=str(i)\n",
    "\n",
    "xgi.draw(hype, pos=xgi.drawing.layout.circular_layout(hype), node_labels=dict_node_labels, edge_fc=df['hoi'][index_pos][::-1], node_size=0, edge_fc_cmap='viridis')"
   ]
  },
  {
   "cell_type": "code",
   "execution_count": 9,
   "metadata": {},
   "outputs": [
    {
     "data": {
      "text/plain": [
       "(<Axes: >,\n",
       " (<matplotlib.collections.PathCollection at 0x7f19d046e240>,\n",
       "  <matplotlib.collections.LineCollection at 0x7f198f596e10>,\n",
       "  <matplotlib.collections.PatchCollection at 0x7f19d0176270>))"
      ]
     },
     "execution_count": 9,
     "metadata": {},
     "output_type": "execute_result"
    },
    {
     "data": {
      "image/png": "[encoded data removed]",
      "text/plain": [
       "<Figure size 640x480 with 1 Axes>"
      ]
     },
     "metadata": {},
     "output_type": "display_data"
    }
   ],
   "source": [
    "hype=xgi.Hypergraph()\n",
    "\n",
    "#Here we separate the synergistic and redundant interactions\n",
    "index_pos=np.where(df['hoi']>0.1)[0]\n",
    "index_neg=np.where(df['hoi']<-0.1)[0]\n",
    "hype.add_nodes_from(np.arange(0,7))\n",
    "hype.add_edges_from(df['multiplet'][index_neg][::-1])\n",
    "\n",
    "dict_node_labels={}\n",
    "for i in range(len(hype.nodes)):\n",
    "    dict_node_labels[i]=str(i)\n",
    "\n",
    "xgi.draw(hype, pos=xgi.drawing.layout.circular_layout(hype), node_labels=dict_node_labels, edge_fc=df['hoi'][index_neg][::-1], node_size=0, edge_fc_cmap='viridis')"
   ]
  }
 ],
 "metadata": {
  "kernelspec": {
   "display_name": "matte_plot_env",
   "language": "python",
   "name": "python3"
  },
  "language_info": {
   "codemirror_mode": {
    "name": "ipython",
    "version": 3
   },
   "file_extension": ".py",
   "mimetype": "text/x-python",
   "name": "python",
   "nbconvert_exporter": "python",
   "pygments_lexer": "ipython3",
   "version": "3.12.9"
  }
 },
 "nbformat": 4,
 "nbformat_minor": 2
}
