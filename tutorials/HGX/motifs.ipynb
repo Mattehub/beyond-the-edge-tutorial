{
 "cells": [
  {
   "attachments": {},
   "cell_type": "markdown",
   "metadata": {},
   "source": [
    "# Higher-order network motif analysis in hypergraphs"
   ]
  },
  {
   "attachments": {},
   "cell_type": "markdown",
   "metadata": {},
   "source": [
    "Motifs are small recurring patterns of subgraphs that are overrepresented in a network. Motif analysis has established itself as a fundamental tool in network science to describe networked systems at their microscale, identifying their structural and functional building blocks. "
   ]
  },
  {
   "attachments": {},
   "cell_type": "markdown",
   "metadata": {},
   "source": [
    "We provide an implementation for higher-order motif analysis, extracting overabundant subgraphs of nodes connected by higher-order interactions, as originally defined in *Lotito, Q.F., Musciotto, F., Montresor, A. et al. Higher-order motif analysis in hypergraphs. Commun Phys 5, 79 (2022).*"
   ]
  },
  {
   "cell_type": "code",
   "execution_count": 2,
   "metadata": {},
   "outputs": [],
   "source": [
    "import sys\n",
    "sys.path.append(\"..\")\n",
    "\n",
    "import hypergraphx as hgx\n",
    "from hypergraphx.motifs import compute_motifs\n",
    "from hypergraphx.readwrite import load_hypergraph\n",
    "from hypergraphx.viz import plot_motifs"
   ]
  },
  {
   "attachments": {},
   "cell_type": "markdown",
   "metadata": {},
   "source": [
    "Here we load the dataset \"high school\" from our data repository"
   ]
  },
  {
   "cell_type": "code",
   "execution_count": 5,
   "metadata": {},
   "outputs": [],
   "source": [
    "H = load_hypergraph(\"test_data/hs/hs.json\")"
   ]
  },
  {
   "attachments": {},
   "cell_type": "markdown",
   "metadata": {},
   "source": [
    "The function *compute_motifs* accepts the hypergraph H as a parameter, the order of the motif analysis (i.e., the size of the patterns in terms of the number of nodes), and the runs of the configuration model for computing the score of the motifs (relative abundance). Zero runs of the configuration model corresponds to counting patterns in the input hypergraphs. For example, here we set five runs for the configuration model. Five runs is a very low number, but it is enough for the purpose of this tutorial."
   ]
  },
  {
   "cell_type": "code",
   "execution_count": 6,
   "metadata": {},
   "outputs": [
    {
     "name": "stdout",
     "output_type": "stream",
     "text": [
      "Computing observed motifs of order 3...\n",
      "Computing config model motifs of order 3. Step: 1\n",
      "75890 steps completed.\n",
      "Computing config model motifs of order 3. Step: 2\n",
      "75890 steps completed.\n",
      "Computing config model motifs of order 3. Step: 3\n",
      "75890 steps completed.\n",
      "Computing config model motifs of order 3. Step: 4\n",
      "75890 steps completed.\n",
      "Computing config model motifs of order 3. Step: 5\n",
      "75890 steps completed.\n"
     ]
    }
   ],
   "source": [
    "motifs = compute_motifs(H, order=3, runs_config_model=5)"
   ]
  },
  {
   "attachments": {},
   "cell_type": "markdown",
   "metadata": {},
   "source": [
    "The output object stores the count of the patterns on the input hypergraph, the count of the patterns on the samples from the configuration model and the relative abundance score of the motifs."
   ]
  },
  {
   "cell_type": "code",
   "execution_count": 7,
   "metadata": {},
   "outputs": [
    {
     "name": "stdout",
     "output_type": "stream",
     "text": [
      "dict_keys(['observed', 'config_model', 'norm_delta'])\n"
     ]
    }
   ],
   "source": [
    "print(motifs.keys())"
   ]
  },
  {
   "cell_type": "code",
   "execution_count": 8,
   "metadata": {},
   "outputs": [
    {
     "data": {
      "text/plain": [
       "[(((1, 2), (1, 2, 3)), 58),\n",
       " (((1, 2), (1, 2, 3), (1, 3)), 231),\n",
       " (((1, 2), (1, 2, 3), (1, 3), (2, 3)), 1802),\n",
       " (((1, 2), (1, 3)), 115709),\n",
       " (((1, 2), (1, 3), (2, 3)), 28029),\n",
       " (((1, 2, 3),), 0)]"
      ]
     },
     "execution_count": 8,
     "metadata": {},
     "output_type": "execute_result"
    }
   ],
   "source": [
    "motifs['observed']"
   ]
  },
  {
   "cell_type": "code",
   "execution_count": 9,
   "metadata": {},
   "outputs": [
    {
     "name": "stdout",
     "output_type": "stream",
     "text": [
      "[(((1, 2), (1, 2, 3)), -0.4637700026591779), (((1, 2), (1, 2, 3), (1, 3)), 0.20092506587301312), (((1, 2), (1, 2, 3), (1, 3), (2, 3)), 0.5552286769086999), (((1, 2), (1, 3)), -0.08608922375305858), (((1, 2), (1, 3), (2, 3)), 0.3396921149080394), (((1, 2, 3),), -0.5598799259649743)]\n"
     ]
    }
   ],
   "source": [
    "print(motifs['norm_delta'])"
   ]
  },
  {
   "cell_type": "code",
   "execution_count": 11,
   "metadata": {},
   "outputs": [],
   "source": [
    "motif_profile = [i[1] for i in motifs['norm_delta']]\n"
   ]
  },
  {
   "attachments": {},
   "cell_type": "markdown",
   "metadata": {},
   "source": [
    "Let's plot the profile. Please keep in mind that the x-axis of the plot follows the original paper convention, displaying first the patterns involving lower-order interactions only."
   ]
  },
  {
   "cell_type": "code",
   "execution_count": 12,
   "metadata": {},
   "outputs": [
    {
     "name": "stderr",
     "output_type": "stream",
     "text": [
      "c:\\Users\\leona\\anaconda3\\envs\\hgx_new\\Lib\\site-packages\\hypergraphx\\viz\\plot_motifs.py:51: FutureWarning: \n",
      "\n",
      "Passing `palette` without assigning `hue` is deprecated and will be removed in v0.14.0. Assign the `x` variable to `hue` and set `legend=False` for the same effect.\n",
      "\n",
      "  g = sns.barplot(x=[\"I\", \"II\", \"III\", \"IV\", \"V\", \"VI\"], y=motifs, palette=cols)\n"
     ]
    },
    {
     "data": {
      "image/png": "[encoded data removed]",
      "text/plain": [
       "<Figure size 640x480 with 1 Axes>"
      ]
     },
     "metadata": {},
     "output_type": "display_data"
    }
   ],
   "source": [
    "plot_motifs(motif_profile)"
   ]
  },
  {
   "cell_type": "code",
   "execution_count": null,
   "metadata": {},
   "outputs": [],
   "source": []
  }
 ],
 "metadata": {
  "kernelspec": {
   "display_name": "hgx_new",
   "language": "python",
   "name": "python3"
  },
  "language_info": {
   "codemirror_mode": {
    "name": "ipython",
    "version": 3
   },
   "file_extension": ".py",
   "mimetype": "text/x-python",
   "name": "python",
   "nbconvert_exporter": "python",
   "pygments_lexer": "ipython3",
   "version": "3.12.11"
  },
  "orig_nbformat": 4
 },
 "nbformat": 4,
 "nbformat_minor": 2
}
