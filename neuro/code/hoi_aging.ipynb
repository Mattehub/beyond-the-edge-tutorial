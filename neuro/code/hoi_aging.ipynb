{
 "cells": [
  {
   "cell_type": "code",
   "execution_count": 10,
   "id": "5582e1e7",
   "metadata": {},
   "outputs": [],
   "source": [
    "import numpy as np\n",
    "\n",
    "# Helper to extract the numeric part from filename\n",
    "def extract_number(filename):\n",
    "    # Example filename: ts_m20_p001.txt\n",
    "    return int(filename.split('_p')[1].split('.txt')[0])\n",
    "\n",
    "# Sort filenames by their numeric part\n",
    "sorted_files = sorted([f for f in txt_files if 'ts_m20_p' in f], key=lambda x: extract_number(os.path.basename(x)))\n",
    "\n",
    "# Load each file as a numpy array, preserving the 20-row structure\n",
    "datasets = []\n",
    "for file_path in sorted_files:\n",
    "    with open(file_path, 'r', encoding='utf-8') as f:\n",
    "        # Each file has 20 rows, each row is a line of space-separated floats\n",
    "        lines = f.readlines()\n",
    "        arr = np.array([np.fromstring(line, sep=' ') for line in lines])\n",
    "        datasets.append(arr)\n",
    "\n",
    "# datasets is a list of numpy arrays, sorted by file number\n"
   ]
  },
  {
   "cell_type": "code",
   "execution_count": 15,
   "id": "e2b8a9b9",
   "metadata": {},
   "outputs": [],
   "source": [
    "# uploading the .mat files from the folder \"./../data/sc/\", (only one structural connectivity matrix). \n",
    "# Then upload ages_up.mat from \"./../data/\"\n",
    "\n",
    "import scipy.io\n",
    "import numpy as np\n",
    "\n",
    "# Load the structural connectivity matrix\n",
    "sc_matrix = scipy.io.loadmat(\"./../data/sc/sc_det_m20.mat\")['sc']\n",
    "\n",
    "# Load the ages\n",
    "ages = scipy.io.loadmat(\"./../data/ages_up.mat\")['ages_up']"
   ]
  },
  {
   "cell_type": "code",
   "execution_count": 16,
   "id": "85cf1ff0",
   "metadata": {},
   "outputs": [
    {
     "data": {
      "text/plain": [
       "array([[10.887671, 11.454795, 12.221918, 12.641096, 14.035616, 14.276712,\n",
       "        14.419178, 16.005479, 16.227397, 16.339726, 16.682192, 17.      ,\n",
       "        18.      , 18.134247, 18.854795, 18.942466, 19.      , 19.547945,\n",
       "        20.994521, 21.      , 21.      , 21.      , 22.      , 24.      ,\n",
       "        24.087671, 24.328767, 24.775342, 24.789041, 24.923288, 25.378082,\n",
       "        26.493151, 27.073973, 27.172603, 27.484932, 27.610959, 27.723288,\n",
       "        27.873973, 28.821918, 29.553425, 30.589041, 31.035616, 31.073973,\n",
       "        31.194521, 33.473973, 33.531507, 34.816438, 35.786301, 38.479452,\n",
       "        38.890411, 39.334247, 42.005479, 42.139726, 42.383562, 43.317808,\n",
       "        43.835616, 44.739726, 46.178082, 46.515068, 47.19726 , 47.928767,\n",
       "        49.123288, 49.860274, 50.142466, 50.808219, 51.030137, 51.115068,\n",
       "        51.673973, 52.265753, 52.432877, 53.172603, 54.309589, 55.989041,\n",
       "        56.345205, 57.186301, 57.347945, 57.876712, 59.057534, 59.939726,\n",
       "        60.      , 60.29863 , 60.690411, 60.852055, 61.761644, 62.      ,\n",
       "        62.391781, 64.      , 64.210959, 64.471233, 64.720548, 64.739726,\n",
       "        65.043836, 66.      , 66.      , 67.654795, 68.      , 68.361644,\n",
       "        69.926027, 70.      , 70.      , 70.      , 70.057534, 70.553425,\n",
       "        71.016438, 72.364384, 72.819178, 73.      , 73.      , 73.      ,\n",
       "        75.558904, 76.019178, 76.608219, 77.      , 78.084932, 78.246575,\n",
       "        78.767123, 78.849315, 17.      , 17.446575, 18.230137, 19.      ,\n",
       "        19.      , 19.      , 19.      , 20.      , 20.      , 20.      ,\n",
       "        20.183562, 21.      , 21.257534, 21.457534, 21.953425, 22.      ,\n",
       "        22.      , 22.      , 22.      , 22.      , 22.      , 23.005479,\n",
       "        24.      , 25.079452, 61.394521, 62.      , 62.      , 63.      ,\n",
       "        63.      , 63.457534, 65.564384, 66.739726, 66.975342, 68.435616,\n",
       "        69.      , 70.10411 , 70.635616, 71.358904, 73.158904, 73.339726,\n",
       "        74.227397, 77.      , 77.054795, 79.      , 80.      ]])"
      ]
     },
     "execution_count": 16,
     "metadata": {},
     "output_type": "execute_result"
    }
   ],
   "source": [
    "ages"
   ]
  },
  {
   "cell_type": "code",
   "execution_count": 17,
   "id": "2d5d6025",
   "metadata": {},
   "outputs": [
    {
     "name": "stderr",
     "output_type": "stream",
     "text": [
      "c:\\Users\\matte\\anaconda3\\envs\\base_mmm\\Lib\\site-packages\\tqdm\\auto.py:21: TqdmWarning: IProgress not found. Please update jupyter and ipywidgets. See https://ipywidgets.readthedocs.io/en/stable/user_install.html\n",
      "  from .autonotebook import tqdm as notebook_tqdm\n"
     ]
    }
   ],
   "source": [
    "import hoi"
   ]
  },
  {
   "cell_type": "code",
   "execution_count": 19,
   "id": "93452da5",
   "metadata": {},
   "outputs": [
    {
     "name": "stderr",
     "output_type": "stream",
     "text": [
      "    Copnorm and demean the data\n",
      "Get list of multiplets\n",
      "                                                            \r"
     ]
    }
   ],
   "source": [
    "model = hoi.metrics.DTC(datasets[0].T)\n",
    "results_hoi = model.fit()\n"
   ]
  }
 ],
 "metadata": {
  "kernelspec": {
   "display_name": "base_mmm",
   "language": "python",
   "name": "python3"
  },
  "language_info": {
   "codemirror_mode": {
    "name": "ipython",
    "version": 3
   },
   "file_extension": ".py",
   "mimetype": "text/x-python",
   "name": "python",
   "nbconvert_exporter": "python",
   "pygments_lexer": "ipython3",
   "version": "3.13.7"
  }
 },
 "nbformat": 4,
 "nbformat_minor": 5
}
